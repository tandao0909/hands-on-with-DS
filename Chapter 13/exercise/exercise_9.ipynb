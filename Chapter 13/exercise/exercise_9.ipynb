{
 "cells": [
  {
   "cell_type": "code",
   "execution_count": 1,
   "metadata": {},
   "outputs": [
    {
     "name": "stderr",
     "output_type": "stream",
     "text": [
      "2024-03-14 20:45:48.783461: I tensorflow/core/platform/cpu_feature_guard.cc:182] This TensorFlow binary is optimized to use available CPU instructions in performance-critical operations.\n",
      "To enable the following instructions: SSE4.1 SSE4.2 AVX AVX2 AVX_VNNI FMA, in other operations, rebuild TensorFlow with the appropriate compiler flags.\n"
     ]
    }
   ],
   "source": [
    "import numpy as np\n",
    "import tensorflow as tf\n",
    "import matplotlib.pyplot as plt\n",
    "from pathlib import Path"
   ]
  },
  {
   "cell_type": "markdown",
   "metadata": {},
   "source": [
    "Exercise: *Load the Fashion MNIST dataset (introduced in Chapter 10); split it into a training set, a validation set, and a test set; shuffle the training set; and save each dataset to multiple TFRecord files. Each record should be a serialized `Example` protobuf with two features: the serialized image (use `tf.io.serialize_tensor()` to serialize each image), and the label.*\n",
    "\n",
    "**Note**: For large images, you could use `tf.io.encode_jpeg()` instead. This could save a lot of space, but it would lose a bit of image quality."
   ]
  },
  {
   "cell_type": "code",
   "execution_count": 2,
   "metadata": {},
   "outputs": [],
   "source": [
    "(X_train_full, y_train_full), (X_test, y_test) = (\n",
    "    tf.keras.datasets.fashion_mnist.load_data()\n",
    ")\n",
    "X_train, y_train = X_train_full[5000:], y_train_full[5000:]\n",
    "X_valid, y_valid = X_train_full[:5000], y_train_full[:5000]"
   ]
  },
  {
   "cell_type": "code",
   "execution_count": 3,
   "metadata": {},
   "outputs": [
    {
     "name": "stderr",
     "output_type": "stream",
     "text": [
      "2024-03-14 20:45:50.692618: I tensorflow/core/common_runtime/process_util.cc:146] Creating new thread pool with default inter op setting: 2. Tune using inter_op_parallelism_threads for best performance.\n"
     ]
    }
   ],
   "source": [
    "tf.random.set_seed(42)\n",
    "train_set = tf.data.Dataset.from_tensor_slices((X_train, y_train))\n",
    "train_set = train_set.shuffle(len(X_train), seed=42)\n",
    "valid_set = tf.data.Dataset.from_tensor_slices((X_valid, y_valid))\n",
    "test_set = tf.data.Dataset.from_tensor_slices((X_test, y_test))"
   ]
  },
  {
   "cell_type": "code",
   "execution_count": 4,
   "metadata": {},
   "outputs": [],
   "source": [
    "from tensorflow.train import BytesList, Int64List, Features, Feature, Example\n",
    "\n",
    "\n",
    "def create_example(image, label) -> Example:\n",
    "    image_data = tf.io.serialize_tensor(image)\n",
    "    return Example(\n",
    "        features=Features(\n",
    "            feature={\n",
    "                \"image\": Feature(bytes_list=BytesList(value=[image_data.numpy()])),\n",
    "                \"label\": Feature(int64_list=Int64List(value=[label])),\n",
    "            }\n",
    "        )\n",
    "    )"
   ]
  },
  {
   "cell_type": "code",
   "execution_count": 5,
   "metadata": {},
   "outputs": [
    {
     "name": "stdout",
     "output_type": "stream",
     "text": [
      "features {\n",
      "  feature {\n",
      "    key: \"image\"\n",
      "    value {\n",
      "      bytes_list {\n",
      "        value: \"\\010\\004\\022\\010\\022\\002\\010\\034\\022\\002\\010\\034\\\"\\220\\006\\000\\000\\000\\000\\000\\000\\000\\000\\000\\000T\\301\\206Wi\\\\\\217\\203\\000\\000\\001\\000\\000\\000\\000\\000\\000\\000\\000\\000\\000\\000\\000\\000\\000\\000\\006\\350\\343\\325\\363\\377\\377\\356\\351\\362\\305\\000\\000\\000\\000\\000\\000\\000\\000\\000\\000\\000\\000\\000\\000\\000\\000\\000\\262\\366\\276\\316\\353\\340\\351\\362\\321\\277\\337\\234\\027\\000\\000\\002\\000\\000\\000\\000\\000\\000\\000\\000\\000\\000\\000e\\327\\320\\320\\312\\363\\361\\357\\366\\326\\330\\327\\327\\333c\\000\\000\\000\\000\\000\\000\\000\\000\\000\\000\\000\\000B\\334\\312\\327\\351\\327\\337\\372\\373\\357\\335\\324\\312\\311\\312\\316\\007\\000\\002\\000\\000\\000\\000\\000\\000\\000\\000\\000\\276\\314\\301\\315\\311\\315\\326\\330\\335\\312\\310\\310\\313\\312\\302\\326W\\000\\002\\000\\000\\000\\000\\000\\000\\000\\000Z\\333\\305\\300\\271\\300\\301\\277\\276\\275\\276\\262\\247\\271\\274\\301\\323\\251\\000\\000\\000\\000\\000\\000\\000\\000\\000\\000\\243\\330\\306\\303\\304\\304\\301\\300\\305\\311\\306\\262\\236\\270\\304\\316\\327\\300\\000\\000\\000\\000\\000\\000\\000\\000\\000\\000\\255\\326\\307\\332\\306\\304\\274\\303\\303\\307\\303\\304\\310\\302\\340\\331\\312\\330-\\000\\000\\000\\000\\000\\000\\000\\000\\000\\301\\327\\310\\344\\315\\300\\306\\306\\310\\310\\311\\277\\305\\271\\370\\341\\315\\336s\\000\\000\\000\\000\\000\\000\\000\\000\\000\\312\\335\\307\\356\\354\\303\\314\\302\\310\\312\\311\\300\\311\\302\\347\\350\\323\\335\\235\\000\\000\\000\\000\\000\\000\\000\\000\\000\\315\\336\\326\\356\\327\\315\\310\\301\\306\\314\\313\\303\\306\\307\\347\\363\\313\\337\\255\\000\\000\\000\\000\\000\\000\\000\\000\\000\\376\\330\\342\\351\\314\\322\\303\\306\\307\\313\\312\\301\\302\\330\\252\\360\\322\\331\\355\\000\\000\\000\\000\\000\\000\\000\\000\\000\\377\\343\\343\\342\\314\\312\\304\\310\\302\\317\\311\\300\\274\\355s\\264\\341\\340\\324\\000\\000\\000\\000\\000\\000\\000\\000\\\"\\343\\350\\366\\341\\311\\306\\307\\310\\304\\324\\306\\301\\303\\351\\177\\264\\347\\350\\321\\027\\000\\000\\000\\000\\000\\000\\000Q\\335\\353\\365\\253\\313\\306\\312\\307\\305\\325\\310\\300\\303\\336\\215\\275\\366\\341\\325H\\000\\000\\000\\000\\000\\000\\000l\\331\\353\\377k\\322\\306\\314\\304\\305\\330\\312\\275\\305\\340\\215\\254\\377\\326\\360[\\000\\000\\000\\000\\000\\000\\000\\204\\323\\355\\377=\\343\\302\\315\\302\\311\\327\\313\\276\\312\\341\\240\\202\\376\\322\\363a\\000\\000\\000\\000\\000\\000\\000\\222\\317\\360\\331;\\365\\304\\314\\312\\311\\322\\321\\301\\310\\324\\312a\\377\\330\\357m\\000\\000\\000\\000\\000\\000\\000\\244\\316\\360\\267c\\363\\307\\311\\306\\303\\323\\320\\305\\305\\311\\341D\\371\\344\\345z\\000\\000\\000\\000\\000\\000\\000\\247\\313\\377my\\360\\306\\304\\305\\312\\316\\317\\313\\307\\302\\342w\\364\\351\\340\\210\\000\\000\\000\\000\\000\\000\\000\\253\\307\\377>\\224\\357\\301\\310\\312\\313\\317\\307\\320\\312\\310\\327\\230\\362\\336\\337\\223\\000\\000\\000\\000\\000\\000\\000\\255\\316\\377P\\265\\332\\311\\311\\313\\315\\321\\304\\316\\306\\310\\321\\246\\352\\332\\344\\230\\000\\000\\000\\000\\000\\000\\000\\247\\322\\373Z\\273\\333\\315\\311\\316\\313\\320\\306\\315\\310\\317\\323\\242\\326\\332\\353\\233\\000\\000\\000\\000\\000\\000\\000\\243\\316\\373^\\275\\325\\313\\312\\315\\311\\323\\305\\312\\307\\313\\337\\240\\270\\347\\345\\237\\000\\000\\000\\000\\000\\000\\000\\242\\314\\346h\\273\\315\\311\\304\\303\\277\\323\\300\\277\\304\\303\\327\\241\\245\\351\\322\\242\\000\\000\\000\\000\\000\\000\\000\\266\\342\\366\\241\\364\\356\\361\\362\\355\\354\\356\\345\\343\\341\\342\\345\\316\\235\\354\\321\\274\\000\\000\\000\\000\\000\\000\\000\\032v\\231Mdxu}\\210\\221\\235\\233\\235\\231\\235\\235\\224C\\340\\320~\\000\\000\\000\"\n",
      "      }\n",
      "    }\n",
      "  }\n",
      "  feature {\n",
      "    key: \"label\"\n",
      "    value {\n",
      "      int64_list {\n",
      "        value: 4\n",
      "      }\n",
      "    }\n",
      "  }\n",
      "}\n",
      "\n"
     ]
    },
    {
     "name": "stderr",
     "output_type": "stream",
     "text": [
      "2024-03-14 20:45:50.781480: I tensorflow/core/common_runtime/executor.cc:1197] [/device:CPU:0] (DEBUG INFO) Executor start aborting (this does not indicate an error and you can ignore this message): INVALID_ARGUMENT: You must feed a value for placeholder tensor 'Placeholder/_1' with dtype uint8 and shape [55000]\n",
      "\t [[{{node Placeholder/_1}}]]\n",
      "2024-03-14 20:45:50.781653: I tensorflow/core/common_runtime/executor.cc:1197] [/device:CPU:0] (DEBUG INFO) Executor start aborting (this does not indicate an error and you can ignore this message): INVALID_ARGUMENT: You must feed a value for placeholder tensor 'Placeholder/_1' with dtype uint8 and shape [55000]\n",
      "\t [[{{node Placeholder/_1}}]]\n"
     ]
    }
   ],
   "source": [
    "# Test create_example() function\n",
    "\n",
    "for image, label in train_set.take(1):\n",
    "    print(create_example(image, label))"
   ]
  },
  {
   "cell_type": "markdown",
   "metadata": {},
   "source": [
    "The following function does:\n",
    "- Save a given dataset to a set of TFRecord files. The examples are written in a simple round-robin fashion.\n",
    "- To do this, we enumerate over the dataset using the `enumerate()` method.\n",
    "- We compute `index % n_shards` to decide which file to write to.\n",
    "\n",
    "We use the standard `contextlib.ExitStack` class to make sure all writers are properly closed whether or not an I/O error occurs during writing."
   ]
  },
  {
   "cell_type": "code",
   "execution_count": 6,
   "metadata": {},
   "outputs": [],
   "source": [
    "from contextlib import ExitStack\n",
    "\n",
    "\n",
    "def write_tfrecord(name, dataset, n_shards=10):\n",
    "    paths = [\n",
    "        \"{}.tfrecord-{:05d}-of-{:05d}\".format(name, index, n_shards)\n",
    "        for index in range(n_shards)\n",
    "    ]\n",
    "    with ExitStack() as stack:\n",
    "        writers = [stack.enter_context(tf.io.TFRecordWriter(path)) for path in paths]\n",
    "        for index, (image, label) in dataset.enumerate():\n",
    "            shard = index % n_shards\n",
    "            example = create_example(image, label)\n",
    "            writers[shard].write(example.SerializeToString())\n",
    "    return paths"
   ]
  },
  {
   "cell_type": "code",
   "execution_count": 7,
   "metadata": {},
   "outputs": [
    {
     "name": "stderr",
     "output_type": "stream",
     "text": [
      "2024-03-14 20:45:50.904262: I tensorflow/core/grappler/optimizers/data/replicate_on_split.cc:32] Running replicate on split optimization\n"
     ]
    },
    {
     "name": "stderr",
     "output_type": "stream",
     "text": [
      "2024-03-14 20:45:50.918176: I tensorflow/core/common_runtime/executor.cc:1197] [/device:CPU:0] (DEBUG INFO) Executor start aborting (this does not indicate an error and you can ignore this message): INVALID_ARGUMENT: You must feed a value for placeholder tensor 'Placeholder/_5' with dtype uint8 and shape [55000]\n",
      "\t [[{{node Placeholder/_5}}]]\n",
      "2024-03-14 20:45:50.918574: I tensorflow/core/common_runtime/executor.cc:1197] [/device:CPU:0] (DEBUG INFO) Executor start aborting (this does not indicate an error and you can ignore this message): INVALID_ARGUMENT: You must feed a value for placeholder tensor 'Placeholder/_4' with dtype uint8 and shape [55000,28,28]\n",
      "\t [[{{node Placeholder/_4}}]]\n",
      "2024-03-14 20:46:02.845371: I tensorflow/core/grappler/optimizers/data/replicate_on_split.cc:32] Running replicate on split optimization\n",
      "2024-03-14 20:46:02.847918: I tensorflow/core/common_runtime/executor.cc:1197] [/device:CPU:0] (DEBUG INFO) Executor start aborting (this does not indicate an error and you can ignore this message): INVALID_ARGUMENT: You must feed a value for placeholder tensor 'Placeholder/_5' with dtype uint8 and shape [5000]\n",
      "\t [[{{node Placeholder/_5}}]]\n",
      "2024-03-14 20:46:03.739445: I tensorflow/core/grappler/optimizers/data/replicate_on_split.cc:32] Running replicate on split optimization\n",
      "2024-03-14 20:46:03.742599: I tensorflow/core/common_runtime/executor.cc:1197] [/device:CPU:0] (DEBUG INFO) Executor start aborting (this does not indicate an error and you can ignore this message): INVALID_ARGUMENT: You must feed a value for placeholder tensor 'Placeholder/_5' with dtype uint8 and shape [10000]\n",
      "\t [[{{node Placeholder/_5}}]]\n"
     ]
    }
   ],
   "source": [
    "train_filepaths = write_tfrecord(name=\"my_fashion_mnist.train\", dataset=train_set)\n",
    "valid_filepaths = write_tfrecord(name=\"my_fashion_mnist.valid\", dataset=valid_set)\n",
    "test_filepaths = write_tfrecord(name=\"my_fashion_mnist.test\", dataset=test_set)"
   ]
  },
  {
   "cell_type": "markdown",
   "metadata": {},
   "source": [
    "Exercise: *Then use tf.data to create an efficient dataset for each set.*"
   ]
  },
  {
   "cell_type": "code",
   "execution_count": 8,
   "metadata": {},
   "outputs": [],
   "source": [
    "def preprocess(tfrecord):\n",
    "    feature_descriptions = {\n",
    "        \"image\": tf.io.FixedLenFeature([], tf.string, default_value=\"\"),\n",
    "        \"label\": tf.io.FixedLenFeature([], tf.int64, default_value=-1),\n",
    "    }\n",
    "    example = tf.io.parse_single_example(tfrecord, feature_descriptions)\n",
    "    image = tf.io.parse_tensor(example[\"image\"], out_type=tf.uint8)\n",
    "    image = tf.reshape(image, shape=[28, 28])\n",
    "    return image, example[\"label\"]\n",
    "\n",
    "\n",
    "def mnist(\n",
    "    filepaths,\n",
    "    n_read_threads=5,\n",
    "    shuffle_buffer_size=None,\n",
    "    n_parse_threads=None,\n",
    "    seed=42,\n",
    "    batch_size=32,\n",
    "    cache=True,\n",
    "):\n",
    "    dataset = tf.data.TFRecordDataset(filepaths, num_parallel_reads=n_read_threads)\n",
    "\n",
    "    if cache:\n",
    "        dataset = dataset.cache()\n",
    "    if shuffle_buffer_size:\n",
    "        dataset = dataset.shuffle(shuffle_buffer_size, seed=seed)\n",
    "\n",
    "    dataset = dataset.map(preprocess, num_parallel_calls=n_parse_threads)\n",
    "    dataset = dataset.batch(batch_size)\n",
    "    return dataset.prefetch(1)"
   ]
  },
  {
   "cell_type": "code",
   "execution_count": 9,
   "metadata": {},
   "outputs": [],
   "source": [
    "train_set = mnist(train_filepaths, shuffle_buffer_size=60_000)\n",
    "valid_set = mnist(valid_filepaths)\n",
    "test_set = mnist(test_filepaths)"
   ]
  },
  {
   "cell_type": "code",
   "execution_count": 10,
   "metadata": {},
   "outputs": [
    {
     "name": "stderr",
     "output_type": "stream",
     "text": [
      "2024-03-14 20:46:05.734674: I tensorflow/core/common_runtime/executor.cc:1197] [/device:CPU:0] (DEBUG INFO) Executor start aborting (this does not indicate an error and you can ignore this message): INVALID_ARGUMENT: You must feed a value for placeholder tensor 'Placeholder/_0' with dtype string and shape [10]\n",
      "\t [[{{node Placeholder/_0}}]]\n",
      "2024-03-14 20:46:05.735252: I tensorflow/core/common_runtime/executor.cc:1197] [/device:CPU:0] (DEBUG INFO) Executor start aborting (this does not indicate an error and you can ignore this message): INVALID_ARGUMENT: You must feed a value for placeholder tensor 'Placeholder/_0' with dtype string and shape [10]\n",
      "\t [[{{node Placeholder/_0}}]]\n"
     ]
    },
    {
     "data": {
      "image/png": "[encoded data removed]",
      "text/plain": [
       "<Figure size 640x480 with 5 Axes>"
      ]
     },
     "metadata": {},
     "output_type": "display_data"
    }
   ],
   "source": [
    "for X, y in train_set.take(1):\n",
    "    for i in range(5):\n",
    "        plt.subplot(1, 5, i + 1)\n",
    "        plt.imshow(X[i].numpy(), cmap=\"binary\")\n",
    "        plt.title(str(y[i].numpy()))\n",
    "        plt.axis(\"off\")"
   ]
  },
  {
   "cell_type": "markdown",
   "metadata": {},
   "source": [
    "Exercise: *Finally, use a Keras model to train these datasets, including a preprocessing layer to standardize each input feature. Try to make the input pipeline as efficient as possible, using TensorBoard to visualize profiling data.*"
   ]
  },
  {
   "cell_type": "code",
   "execution_count": 11,
   "metadata": {},
   "outputs": [
    {
     "name": "stderr",
     "output_type": "stream",
     "text": [
      "2024-03-14 20:46:06.212842: I tensorflow/core/common_runtime/executor.cc:1197] [/device:CPU:0] (DEBUG INFO) Executor start aborting (this does not indicate an error and you can ignore this message): INVALID_ARGUMENT: You must feed a value for placeholder tensor 'Placeholder/_0' with dtype string and shape [10]\n",
      "\t [[{{node Placeholder/_0}}]]\n",
      "2024-03-14 20:46:06.213281: I tensorflow/core/common_runtime/executor.cc:1197] [/device:CPU:0] (DEBUG INFO) Executor start aborting (this does not indicate an error and you can ignore this message): INVALID_ARGUMENT: You must feed a value for placeholder tensor 'Placeholder/_0' with dtype string and shape [10]\n",
      "\t [[{{node Placeholder/_0}}]]\n"
     ]
    }
   ],
   "source": [
    "tf.random.set_seed(42)\n",
    "\n",
    "standardization = tf.keras.layers.Normalization(input_shape=[28, 28])\n",
    "\n",
    "sample_image_batches = train_set.take(100).map(lambda image, label: image)\n",
    "sample_images = np.concatenate(\n",
    "    list(sample_image_batches.as_numpy_iterator()), axis=0\n",
    ").astype(np.float32)\n",
    "standardization.adapt(sample_images)\n",
    "\n",
    "model = tf.keras.Sequential(\n",
    "    [\n",
    "        standardization,\n",
    "        tf.keras.layers.Flatten(),\n",
    "        tf.keras.layers.Dense(100, activation=\"relu\"),\n",
    "        tf.keras.layers.Dense(10, activation=\"softmax\"),\n",
    "    ]\n",
    ")\n",
    "model.compile(\n",
    "    loss=\"sparse_categorical_crossentropy\", optimizer=\"nadam\", metrics=[\"accuracy\"]\n",
    ")"
   ]
  },
  {
   "cell_type": "code",
   "execution_count": 12,
   "metadata": {},
   "outputs": [
    {
     "name": "stdout",
     "output_type": "stream",
     "text": [
      "Epoch 1/5\n"
     ]
    },
    {
     "name": "stderr",
     "output_type": "stream",
     "text": [
      "2024-03-14 20:46:06.566217: I tensorflow/tsl/profiler/lib/profiler_session.cc:104] Profiler session initializing.\n",
      "2024-03-14 20:46:06.566243: I tensorflow/tsl/profiler/lib/profiler_session.cc:119] Profiler session started.\n",
      "2024-03-14 20:46:06.567097: I tensorflow/tsl/profiler/lib/profiler_session.cc:131] Profiler session tear down.\n",
      "2024-03-14 20:46:06.592421: I tensorflow/core/common_runtime/executor.cc:1197] [/device:CPU:0] (DEBUG INFO) Executor start aborting (this does not indicate an error and you can ignore this message): INVALID_ARGUMENT: You must feed a value for placeholder tensor 'Placeholder/_0' with dtype string and shape [10]\n",
      "\t [[{{node Placeholder/_0}}]]\n",
      "2024-03-14 20:46:06.592760: I tensorflow/core/common_runtime/executor.cc:1197] [/device:CPU:0] (DEBUG INFO) Executor start aborting (this does not indicate an error and you can ignore this message): INVALID_ARGUMENT: You must feed a value for placeholder tensor 'Placeholder/_0' with dtype string and shape [10]\n",
      "\t [[{{node Placeholder/_0}}]]\n"
     ]
    },
    {
     "name": "stdout",
     "output_type": "stream",
     "text": [
      "     79/Unknown - 1s 3ms/step - loss: 0.8373 - accuracy: 0.7128"
     ]
    },
    {
     "name": "stderr",
     "output_type": "stream",
     "text": [
      "2024-03-14 20:46:07.187981: I tensorflow/tsl/profiler/lib/profiler_session.cc:104] Profiler session initializing.\n",
      "2024-03-14 20:46:07.188007: I tensorflow/tsl/profiler/lib/profiler_session.cc:119] Profiler session started.\n",
      "2024-03-14 20:46:07.191174: I tensorflow/tsl/profiler/lib/profiler_session.cc:70] Profiler session collecting data.\n",
      "2024-03-14 20:46:07.192534: I tensorflow/tsl/profiler/lib/profiler_session.cc:131] Profiler session tear down.\n",
      "2024-03-14 20:46:07.192798: I tensorflow/tsl/profiler/rpc/client/save_profile.cc:144] Collecting XSpace to repository: my_logs/run/20240314_204606/plugins/profile/2024_03_14_20_46_07/laptop-of-tan.xplane.pb\n"
     ]
    },
    {
     "name": "stdout",
     "output_type": "stream",
     "text": [
      "   1709/Unknown - 5s 2ms/step - loss: 0.4449 - accuracy: 0.8422"
     ]
    },
    {
     "name": "stderr",
     "output_type": "stream",
     "text": [
      "2024-03-14 20:46:11.469262: I tensorflow/core/common_runtime/executor.cc:1197] [/device:CPU:0] (DEBUG INFO) Executor start aborting (this does not indicate an error and you can ignore this message): INVALID_ARGUMENT: You must feed a value for placeholder tensor 'Placeholder/_0' with dtype string and shape [10]\n",
      "\t [[{{node Placeholder/_0}}]]\n",
      "2024-03-14 20:46:11.469894: I tensorflow/core/common_runtime/executor.cc:1197] [/device:CPU:0] (DEBUG INFO) Executor start aborting (this does not indicate an error and you can ignore this message): INVALID_ARGUMENT: You must feed a value for placeholder tensor 'Placeholder/_0' with dtype string and shape [10]\n",
      "\t [[{{node Placeholder/_0}}]]\n"
     ]
    },
    {
     "name": "stdout",
     "output_type": "stream",
     "text": [
      "1719/1719 [==============================] - 5s 3ms/step - loss: 0.4450 - accuracy: 0.8422 - val_loss: 0.3752 - val_accuracy: 0.8680\n",
      "Epoch 2/5\n",
      "1719/1719 [==============================] - 5s 3ms/step - loss: 0.3393 - accuracy: 0.8769 - val_loss: 0.3626 - val_accuracy: 0.8744\n",
      "Epoch 3/5\n",
      "1719/1719 [==============================] - 4s 3ms/step - loss: 0.3003 - accuracy: 0.8899 - val_loss: 0.3305 - val_accuracy: 0.8832\n",
      "Epoch 4/5\n",
      "1719/1719 [==============================] - 4s 3ms/step - loss: 0.2753 - accuracy: 0.8974 - val_loss: 0.3355 - val_accuracy: 0.8834\n",
      "Epoch 5/5\n",
      "1719/1719 [==============================] - 4s 3ms/step - loss: 0.2582 - accuracy: 0.9031 - val_loss: 0.3242 - val_accuracy: 0.8878\n"
     ]
    },
    {
     "data": {
      "text/plain": [
       "<keras.callbacks.History at 0x72d026ec4cd0>"
      ]
     },
     "execution_count": 12,
     "metadata": {},
     "output_type": "execute_result"
    }
   ],
   "source": [
    "from datetime import datetime\n",
    "\n",
    "logs = Path() / \"my_logs\" / \"run\" / datetime.now().strftime(\"%Y%m%d_%H%M%S\")\n",
    "tensorboard_cb = tf.keras.callbacks.TensorBoard(\n",
    "    log_dir=logs, histogram_freq=1, profile_batch=10\n",
    ")\n",
    "\n",
    "model.fit(train_set, epochs=5, validation_data=valid_set, callbacks=[tensorboard_cb])"
   ]
  },
  {
   "cell_type": "code",
   "execution_count": 20,
   "metadata": {},
   "outputs": [
    {
     "data": {
      "text/html": [
       "\n",
       "      <iframe id=\"tensorboard-frame-26e45b20992fddae\" width=\"100%\" height=\"800\" frameborder=\"0\">\n",
       "      </iframe>\n",
       "      <script>\n",
       "        (function() {\n",
       "          const frame = document.getElementById(\"tensorboard-frame-26e45b20992fddae\");\n",
       "          const url = new URL(\"/\", window.location);\n",
       "          const port = 6006;\n",
       "          if (port) {\n",
       "            url.port = port;\n",
       "          }\n",
       "          frame.src = url;\n",
       "        })();\n",
       "      </script>\n",
       "    "
      ],
      "text/plain": [
       "<IPython.core.display.HTML object>"
      ]
     },
     "metadata": {},
     "output_type": "display_data"
    }
   ],
   "source": [
    "%load_ext tensorboard\n",
    "%tensorboard --logdir=./my_logs"
   ]
  }
 ],
 "metadata": {
  "kernelspec": {
   "display_name": "handsonds",
   "language": "python",
   "name": "python3"
  },
  "language_info": {
   "codemirror_mode": {
    "name": "ipython",
    "version": 3
   },
   "file_extension": ".py",
   "mimetype": "text/x-python",
   "name": "python",
   "nbconvert_exporter": "python",
   "pygments_lexer": "ipython3",
   "version": "3.11.5"
  }
 },
 "nbformat": 4,
 "nbformat_minor": 2
}
