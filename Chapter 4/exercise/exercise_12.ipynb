{
 "cells": [
  {
   "cell_type": "markdown",
   "metadata": {},
   "source": [
    "The point of this exercise is implementing from scratch, which means only using Numpy, not even using a single feature of Scikit-learn, expect for loading the iris dataset."
   ]
  },
  {
   "cell_type": "code",
   "execution_count": 119,
   "metadata": {},
   "outputs": [],
   "source": [
    "import numpy as np"
   ]
  },
  {
   "cell_type": "markdown",
   "metadata": {},
   "source": [
    "# Load the data"
   ]
  },
  {
   "cell_type": "code",
   "execution_count": 120,
   "metadata": {},
   "outputs": [],
   "source": [
    "from sklearn.datasets import load_iris\n",
    "\n",
    "iris = load_iris(as_frame=True)\n",
    "\n",
    "X = iris.data[[\"petal length (cm)\", \"petal width (cm)\"]].values\n",
    "y = iris[\"target\"].values"
   ]
  },
  {
   "cell_type": "markdown",
   "metadata": {},
   "source": [
    "We need to add $x_0=1$ in the front of every instance. It would be easy to use add_dummy_feature, but we are here to defeat the black box."
   ]
  },
  {
   "cell_type": "code",
   "execution_count": 121,
   "metadata": {},
   "outputs": [],
   "source": [
    "X_with_bias = np.c_[np.ones(len(X)), X]"
   ]
  },
  {
   "cell_type": "markdown",
   "metadata": {},
   "source": [
    "# Preprocessing the data"
   ]
  },
  {
   "cell_type": "markdown",
   "metadata": {},
   "source": [
    "## Split the data"
   ]
  },
  {
   "cell_type": "markdown",
   "metadata": {},
   "source": [
    "Of course, it would be very easy to use train_test_spilt in Scikit-learn, but we're not here for the easy stuff."
   ]
  },
  {
   "cell_type": "code",
   "execution_count": 122,
   "metadata": {},
   "outputs": [],
   "source": [
    "test_ratio = 0.2\n",
    "validation_ratio = 0.2\n",
    "total_size = len(X_with_bias)\n",
    "\n",
    "test_size = int(test_ratio * total_size)\n",
    "valid_size = int(validation_ratio * total_size)\n",
    "train_size = total_size - test_size - valid_size\n",
    "\n",
    "np.random.seed(42)\n",
    "index = np.random.permutation(len(X))\n",
    "\n",
    "X_train: np.ndarray = X_with_bias[index[:train_size]]\n",
    "y_train: np.ndarray = y[index[:train_size]]\n",
    "\n",
    "X_valid: np.ndarray = X_with_bias[index[train_size:-test_size]]\n",
    "y_valid: np.ndarray = y[index[train_size:-test_size]]\n",
    "\n",
    "X_test: np.ndarray = X_with_bias[index[-test_size:]]\n",
    "y_test: np.ndarray = y[index[-test_size:]]"
   ]
  },
  {
   "cell_type": "markdown",
   "metadata": {},
   "source": [
    "- The target are currently indices (i.e. 0, 1 or 2), but we need class probabilities to use Softmax Regression. \n",
    "- Each instance will have a target vector contains 3 values, all the classes probabilities will be 0.0, expect for the target class, which will has the value is 1.0. In other words, this is an one-hot vector.\n",
    "- This is a function from the author, using the properties of identity matrix.\n",
    "- np.diag(np.one(n)) return an identity matrix of size n.\n",
    "- Then we use [advanced Numpy indexing](https://numpy.org/doc/stable/user/basics.indexing.html#advanced-indexing), noting that if a is a numpy array, then a[[1, 2, 3]] return an array with 3 rows, each row equals to a[1], a[2]. a[3]."
   ]
  },
  {
   "cell_type": "markdown",
   "metadata": {},
   "source": [
    "## Preprocessing the label"
   ]
  },
  {
   "cell_type": "code",
   "execution_count": 123,
   "metadata": {},
   "outputs": [],
   "source": [
    "def to_one_hot(y):\n",
    "    # This code create an 3x3 identity matrix, then apply numpy advanced indexing\n",
    "    # After that, if the i-th row of y is a, then this code return the a-th row of the 3x3 identity matrix\n",
    "    return np.diag(np.ones(y.max() + 1))[y]"
   ]
  },
  {
   "cell_type": "code",
   "execution_count": 124,
   "metadata": {},
   "outputs": [
    {
     "data": {
      "text/plain": [
       "array([1, 0, 2, 1, 1, 0, 1, 2, 1, 1])"
      ]
     },
     "execution_count": 124,
     "metadata": {},
     "output_type": "execute_result"
    }
   ],
   "source": [
    "y_train[:10]"
   ]
  },
  {
   "cell_type": "code",
   "execution_count": 125,
   "metadata": {},
   "outputs": [
    {
     "data": {
      "text/plain": [
       "array([[0., 1., 0.],\n",
       "       [1., 0., 0.],\n",
       "       [0., 0., 1.],\n",
       "       [0., 1., 0.],\n",
       "       [0., 1., 0.],\n",
       "       [1., 0., 0.],\n",
       "       [0., 1., 0.],\n",
       "       [0., 0., 1.],\n",
       "       [0., 1., 0.],\n",
       "       [0., 1., 0.]])"
      ]
     },
     "execution_count": 125,
     "metadata": {},
     "output_type": "execute_result"
    }
   ],
   "source": [
    "to_one_hot(y_train[:10])"
   ]
  },
  {
   "cell_type": "markdown",
   "metadata": {},
   "source": [
    "It looks good, so let's apply it to create our target class probabilities matrix for the training, validation and test set."
   ]
  },
  {
   "cell_type": "code",
   "execution_count": 126,
   "metadata": {},
   "outputs": [],
   "source": [
    "y_train_one_hot = to_one_hot(y_train)\n",
    "y_valid_one_hot = to_one_hot(y_valid)\n",
    "y_test_one_hot = to_one_hot(y_test)"
   ]
  },
  {
   "cell_type": "markdown",
   "metadata": {},
   "source": [
    "## Preprocessing the instances"
   ]
  },
  {
   "cell_type": "markdown",
   "metadata": {},
   "source": [
    "Now, we will scale the instances using standard scaling, and once again, using only Numpy (I'm starting to miss Scikit-learn). <br>\n",
    "Note that we don't want to include the bias term."
   ]
  },
  {
   "cell_type": "code",
   "execution_count": 127,
   "metadata": {},
   "outputs": [],
   "source": [
    "mean = X_train[:, 1:].mean(axis=0)\n",
    "std = X_train[:, 1:].std(axis=0)\n",
    "X_train[:, 1:] = (X_train[:, 1:] - mean) / std\n",
    "X_valid[:, 1:] = (X_valid[:, 1:] - mean) / std\n",
    "X_test[:, 1:] = (X_test[:, 1:] - mean) / std"
   ]
  },
  {
   "cell_type": "markdown",
   "metadata": {},
   "source": [
    "# Implement the algorithm"
   ]
  },
  {
   "cell_type": "markdown",
   "metadata": {},
   "source": [
    "Now we need to implement softmax score, recall that softmax score is:\n",
    "    $$\\hat{p_k} = \\sigma(s(x))_k=\\frac{exp(s_k(x))}{\\sum_{j=1}^k exp(s_j(x))}$$"
   ]
  },
  {
   "cell_type": "code",
   "execution_count": 128,
   "metadata": {},
   "outputs": [],
   "source": [
    "def softmax(logits: list[np.ndarray]) -> np.ndarray:\n",
    "    exponents: np.ndarray = np.exp(logits)\n",
    "    exp_sums = exponents.sum(axis=1, keepdims=True)\n",
    "    return exponents / exp_sums"
   ]
  },
  {
   "cell_type": "markdown",
   "metadata": {},
   "source": [
    "Here we define the number of inputs and outputs."
   ]
  },
  {
   "cell_type": "code",
   "execution_count": 129,
   "metadata": {},
   "outputs": [],
   "source": [
    "n_inputs = X_train.shape[1]  # == 5 (4 features plus the bias term)\n",
    "n_outputs = len(np.unique(y_train))  # == 3 (the amount of iris classes)"
   ]
  },
  {
   "cell_type": "markdown",
   "metadata": {},
   "source": [
    "- Now, we come to the trickiest part: Training!\n",
    "- Theoretically, it's simple: We just need to translate the math equations into Python codes.\n",
    "- But in practice, it is not easy.\n",
    "- In particular, we can mix up the indices, or the order of the terms.\n",
    "- You can even end up with code what is working (compiled), but is not actually computing the right things.\n",
    "- A good way to ensure yu are correct is write down the shape of each tensor and evaluate the corresponding term of your equation is correct.\n",
    "- You can also print the value out to evaluate them directly."
   ]
  },
  {
   "cell_type": "markdown",
   "metadata": {},
   "source": [
    "A reminder about the equations we need to write. <br>\n",
    "The cost function:\n",
    "    $$J(\\Theta) = -\\frac{1}{m}\\sum_{i=1}^m\\sum_{k=1}^Ky_k^{(i)}\\ln(p_k^{(i)})$$\n",
    "The gradient function:\n",
    "    $$\\nabla_{\\theta_k}J(\\Theta) = \\frac{1}{m}\\sum_{i=1}^{m}(p_k^{(i)}-y_k^{(i)})x^{(i)}$$\n",
    "Note that $\\ln(p_k^{(i)})$ may be not computable if $p_k^{(i)} = 0$. So we will add a tiny value $\\epsilon$ to it, to ensure it is positive."
   ]
  },
  {
   "cell_type": "code",
   "execution_count": 130,
   "metadata": {},
   "outputs": [
    {
     "name": "stdout",
     "output_type": "stream",
     "text": [
      "0 3.7085808486476917\n",
      "1000 0.14519367480830644\n",
      "2000 0.1301309575504088\n",
      "3000 0.12009639326384539\n",
      "4000 0.11372961364786884\n"
     ]
    }
   ],
   "source": [
    "eta = 0.5\n",
    "n_epochs = 5000\n",
    "m = len(X_train)\n",
    "epsilon = 1e-5\n",
    "\n",
    "np.random.seed(42)\n",
    "Theta = np.random.randn(n_inputs, n_outputs)\n",
    "\n",
    "for epoch in range(n_epochs):\n",
    "    logits = X_train @ Theta\n",
    "    Y_scores = softmax(logits)\n",
    "    if epoch % 1000 == 0:\n",
    "        Y_proba_valid = softmax(X_valid @ Theta)\n",
    "        cross_entropy = -(y_valid_one_hot * np.log(Y_proba_valid + epsilon))\n",
    "        print(epoch, cross_entropy.sum(axis=1).mean())\n",
    "    errors = Y_scores - y_train_one_hot\n",
    "    gradients = 1 / m * X_train.T @ errors\n",
    "    Theta = Theta - eta * gradients"
   ]
  },
  {
   "cell_type": "markdown",
   "metadata": {},
   "source": [
    "And now we can inspect the model parameters."
   ]
  },
  {
   "cell_type": "code",
   "execution_count": 131,
   "metadata": {},
   "outputs": [
    {
     "data": {
      "text/plain": [
       "array([[ 0.41925035,  6.11082848, -5.52394044],\n",
       "       [-6.5302265 , -0.74577576,  8.33074179],\n",
       "       [-5.28091134,  0.25137425,  6.90671025]])"
      ]
     },
     "execution_count": 131,
     "metadata": {},
     "output_type": "execute_result"
    }
   ],
   "source": [
    "Theta"
   ]
  },
  {
   "cell_type": "markdown",
   "metadata": {},
   "source": [
    "Let's make prediction on the validation set and measure the accuracy."
   ]
  },
  {
   "cell_type": "code",
   "execution_count": 132,
   "metadata": {},
   "outputs": [
    {
     "data": {
      "text/plain": [
       "0.9333333333333333"
      ]
     },
     "execution_count": 132,
     "metadata": {},
     "output_type": "execute_result"
    }
   ],
   "source": [
    "Y_proba_valid: np.ndarray = softmax(X_valid @ Theta)\n",
    "y_predict = Y_proba_valid.argmax(axis=1)\n",
    "\n",
    "accuracy = (y_predict == y_valid).mean()\n",
    "accuracy"
   ]
  },
  {
   "cell_type": "markdown",
   "metadata": {},
   "source": [
    "Because I have sniffed the solution notebook, let's add the $\\ell_2$ norm to the cost function and the gradient vector as well."
   ]
  },
  {
   "cell_type": "code",
   "execution_count": 133,
   "metadata": {},
   "outputs": [
    {
     "name": "stdout",
     "output_type": "stream",
     "text": [
      "0 3.9952080106594807\n",
      "1000 0.6075582807173319\n",
      "2000 0.6075582807173319\n",
      "3000 0.6075582807173319\n",
      "4000 0.6075582807173319\n"
     ]
    }
   ],
   "source": [
    "eta = 0.5\n",
    "n_epochs = 5000\n",
    "m = len(X_train)\n",
    "epsilon = 1e-5\n",
    "alpha = 0.1  # regularization hyperparameter\n",
    "\n",
    "np.random.seed(42)\n",
    "Theta = np.random.randn(n_inputs, n_outputs)\n",
    "\n",
    "for epoch in range(n_epochs):\n",
    "    logits = X_train @ Theta\n",
    "    Y_scores = softmax(logits)\n",
    "    if epoch % 1000 == 0:\n",
    "        Y_proba_valid = softmax(X_valid @ Theta)\n",
    "        cross_entropy = -(y_valid_one_hot * np.log(Y_proba_valid + epsilon))\n",
    "        l2_loss = (\n",
    "            0.5 * (Theta[1:] ** 2).sum()\n",
    "        )  # we don't count the bias term, so we ignore the first row\n",
    "        print(epoch, cross_entropy.sum(axis=1).mean() + alpha * l2_loss)\n",
    "    errors = Y_scores - y_train_one_hot\n",
    "    gradients = 1 / m * X_train.T @ errors\n",
    "    gradients += np.r_[np.zeros((1, n_outputs)), alpha * Theta[1:]]\n",
    "    Theta = Theta - eta * gradients"
   ]
  },
  {
   "cell_type": "markdown",
   "metadata": {},
   "source": [
    "Using $\\ell_2$, it looks like the validation is better, but does the model improve?"
   ]
  },
  {
   "cell_type": "code",
   "execution_count": 134,
   "metadata": {},
   "outputs": [
    {
     "data": {
      "text/plain": [
       "0.9333333333333333"
      ]
     },
     "execution_count": 134,
     "metadata": {},
     "output_type": "execute_result"
    }
   ],
   "source": [
    "Y_proba_valid: np.ndarray = softmax(X_valid @ Theta)\n",
    "y_predict = Y_proba_valid.argmax(axis=1)\n",
    "\n",
    "accuracy = (y_predict == y_valid).mean()\n",
    "accuracy"
   ]
  },
  {
   "cell_type": "markdown",
   "metadata": {},
   "source": [
    "Well, it looks like it does not improve. Maybe change the alpha?"
   ]
  },
  {
   "cell_type": "markdown",
   "metadata": {},
   "source": [
    "Finally, the part we are waiting for: Early stopping! For this, we need to measure the validation cost function and stop when the cost stop decreasing."
   ]
  },
  {
   "cell_type": "code",
   "execution_count": 135,
   "metadata": {},
   "outputs": [
    {
     "name": "stdout",
     "output_type": "stream",
     "text": [
      "0 3.7372435648488707\n",
      "281 0.32564059682266994\n",
      "282 0.32564059811647006\n",
      "Early Stopping!\n"
     ]
    }
   ],
   "source": [
    "eta = 0.5\n",
    "n_epochs = 50000\n",
    "m = len(X_train)\n",
    "epsilon = 1e-5\n",
    "C = 100  # regularization hyperparameter\n",
    "best_loss = np.inf\n",
    "\n",
    "np.random.seed(42)\n",
    "Theta = np.random.randn(n_inputs, n_outputs)\n",
    "\n",
    "for epoch in range(n_epochs):\n",
    "    logits = X_train @ Theta\n",
    "    Y_scores = softmax(logits)\n",
    "\n",
    "    Y_proba_valid = softmax(X_valid @ Theta)\n",
    "    cross_entropy = -(y_valid_one_hot * np.log(Y_proba_valid + epsilon))\n",
    "    l2_loss = 1 / 2 * (Theta[1:] ** 2).sum()\n",
    "    total_loss = cross_entropy.sum(axis=1).mean() + 1 / C * l2_loss\n",
    "    if epoch % 1000 == 0:\n",
    "        print(epoch, total_loss)\n",
    "    if total_loss < best_loss:\n",
    "        best_loss = total_loss\n",
    "    else:\n",
    "        print(epoch - 1, best_loss)\n",
    "        print(epoch, total_loss)\n",
    "        print(\"Early Stopping!\")\n",
    "        break\n",
    "    errors = Y_scores - y_train_one_hot\n",
    "    gradients = 1 / m * X_train.T @ errors\n",
    "    gradients += np.r_[np.zeros((1, n_outputs)), 1 / C * Theta[1:]]\n",
    "    Theta = Theta - eta * gradients"
   ]
  },
  {
   "cell_type": "code",
   "execution_count": 136,
   "metadata": {},
   "outputs": [
    {
     "data": {
      "text/plain": [
       "0.9333333333333333"
      ]
     },
     "execution_count": 136,
     "metadata": {},
     "output_type": "execute_result"
    }
   ],
   "source": [
    "Y_proba_valid: np.ndarray = softmax(X_valid @ Theta)\n",
    "y_predict = Y_proba_valid.argmax(axis=1)\n",
    "\n",
    "accuracy = (y_predict == y_valid).mean()\n",
    "accuracy"
   ]
  },
  {
   "cell_type": "markdown",
   "metadata": {},
   "source": [
    "Not much change, but we shortened training time quite a bit."
   ]
  },
  {
   "cell_type": "markdown",
   "metadata": {},
   "source": [
    "Now, we will plot the prediction on the whole dataset."
   ]
  },
  {
   "cell_type": "code",
   "execution_count": 137,
   "metadata": {},
   "outputs": [
    {
     "data": {
      "image/png": "[encoded data removed]",
      "text/plain": [
       "<Figure size 1000x400 with 1 Axes>"
      ]
     },
     "metadata": {},
     "output_type": "display_data"
    }
   ],
   "source": [
    "import matplotlib as mpl\n",
    "import matplotlib.pyplot as plt\n",
    "\n",
    "custom_cmap = mpl.colors.ListedColormap([\"#fafab0\", \"#9898ff\", \"#a0faa0\"])\n",
    "\n",
    "x0, x1 = np.meshgrid(\n",
    "    np.linspace(0, 7, 800).reshape(-1, 1), np.linspace(0, 3.5, 400).reshape(-1, 1)\n",
    ")\n",
    "X_new = np.c_[x0.ravel(), x1.ravel()]\n",
    "X_new = (X_new - mean) / std\n",
    "X_new_with_bias = np.c_[np.ones(len(X_new)), X_new]\n",
    "\n",
    "logits = X_new_with_bias @ Theta\n",
    "Y_proba: np.ndarray = softmax(logits)\n",
    "y_predict = Y_proba.argmax(axis=1)\n",
    "\n",
    "zz1 = Y_proba[:, 1].reshape(x0.shape)\n",
    "zz = y_predict.reshape(x0.shape)\n",
    "\n",
    "plt.figure(figsize=(10, 4))\n",
    "plt.plot(X[y == 0, 0], X[y == 0, 1], \"yo\", label=\"Iris setosa\")\n",
    "plt.plot(X[y == 1, 0], X[y == 1, 1], \"bs\", label=\"Iris versicolor\")\n",
    "plt.plot(X[y == 2, 0], X[y == 2, 1], \"g^\", label=\"Iris virginica\")\n",
    "\n",
    "plt.contourf(x0, x1, zz, cmap=custom_cmap)\n",
    "contour = plt.contour(x0, x1, zz1, cmap=\"hot\")\n",
    "plt.clabel(contour, inline=1)\n",
    "plt.legend(loc=\"upper left\")\n",
    "plt.xlabel(\"Petal length\")\n",
    "plt.ylabel(\"Petal width\")\n",
    "plt.axis([0, 7, 0, 3.5])\n",
    "plt.grid()\n",
    "plt.show()"
   ]
  },
  {
   "cell_type": "code",
   "execution_count": 138,
   "metadata": {},
   "outputs": [
    {
     "data": {
      "text/plain": [
       "array([[ 0.21881816,  1.99502866, -1.20770843],\n",
       "       [-2.1751076 ,  0.49822019,  1.93348584],\n",
       "       [-1.82855743, -0.27431567,  2.55955427]])"
      ]
     },
     "execution_count": 138,
     "metadata": {},
     "output_type": "execute_result"
    }
   ],
   "source": [
    "Theta"
   ]
  },
  {
   "cell_type": "code",
   "execution_count": 139,
   "metadata": {},
   "outputs": [
    {
     "data": {
      "text/plain": [
       "0.9666666666666667"
      ]
     },
     "execution_count": 139,
     "metadata": {},
     "output_type": "execute_result"
    }
   ],
   "source": [
    "logits = X_test @ Theta\n",
    "Y_proba = softmax(logits)\n",
    "y_predict = Y_proba.argmax(axis=1)\n",
    "\n",
    "accuracy_score = (y_predict == y_test).mean()\n",
    "accuracy_score"
   ]
  },
  {
   "cell_type": "markdown",
   "metadata": {},
   "source": [
    "- We even have better performance on the test set. \n",
    "- This variability is likely due to the very small size of the dataset: depending on how you sample the training set, validation set and the test set, you can get quite different results. \n",
    "- Try changing the random seed and running the code again a few times, you will see that the results will vary."
   ]
  }
 ],
 "metadata": {
  "kernelspec": {
   "display_name": "handons-DS",
   "language": "python",
   "name": "python3"
  },
  "language_info": {
   "codemirror_mode": {
    "name": "ipython",
    "version": 3
   },
   "file_extension": ".py",
   "mimetype": "text/x-python",
   "name": "python",
   "nbconvert_exporter": "python",
   "pygments_lexer": "ipython3",
   "version": "3.11.5"
  }
 },
 "nbformat": 4,
 "nbformat_minor": 2
}
